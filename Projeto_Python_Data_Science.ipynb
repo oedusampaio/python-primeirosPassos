{
  "nbformat": 4,
  "nbformat_minor": 0,
  "metadata": {
    "colab": {
      "provenance": [],
      "include_colab_link": true
    },
    "kernelspec": {
      "name": "python3",
      "display_name": "Python 3"
    },
    "language_info": {
      "name": "python"
    }
  },
  "cells": [
    {
      "cell_type": "markdown",
      "metadata": {
        "id": "view-in-github",
        "colab_type": "text"
      },
      "source": [
        "<a href=\"https://colab.research.google.com/github/oedusampaio/python-primeirosPassos/blob/main/Projeto_Python_Data_Science.ipynb\" target=\"_parent\"><img src=\"https://colab.research.google.com/assets/colab-badge.svg\" alt=\"Open In Colab\"/></a>"
      ]
    },
    {
      "cell_type": "markdown",
      "source": [
        "# Python para Data Science\n",
        "\n",
        "Notebook para o curso de Python para Data Science publicado na plataforma da [Alura](https://www.alura.com.br/)"
      ],
      "metadata": {
        "id": "lQx6Mmv0OJyT"
      }
    },
    {
      "cell_type": "markdown",
      "source": [
        "# Introdução ao Python\n",
        "\n",
        "Vamos conhecer o Python, nosso ambiente de estudo e também faremos nosso primeiro código nessa linguagem!"
      ],
      "metadata": {
        "id": "7SiB6JIpYKmY"
      }
    },
    {
      "cell_type": "markdown",
      "source": [
        "## Google Colaboratory\n",
        "\n",
        "Já aprendemos o que é o [Python](https://www.python.org/) agora vamos aprender a utilzar o [Google Colaboratory](https://colab.research.google.com/) e programar em um notebook.\n",
        "\n",
        "Vamos testar algumas funções dessa ferramenta."
      ],
      "metadata": {
        "id": "Yugfb3fCOYY9"
      }
    },
    {
      "cell_type": "markdown",
      "source": [
        " **`>>> Use essa célula para mover <<<`**"
      ],
      "metadata": {
        "id": "2iUHQsJasJAk"
      }
    },
    {
      "cell_type": "code",
      "source": [
        "10"
      ],
      "metadata": {
        "id": "tWQp3j7S6MTX",
        "colab": {
          "base_uri": "https://localhost:8080/"
        },
        "outputId": "9b333711-579c-478b-f350-0ba7849122a4"
      },
      "execution_count": null,
      "outputs": [
        {
          "output_type": "execute_result",
          "data": {
            "text/plain": [
              "10"
            ]
          },
          "metadata": {},
          "execution_count": 1
        }
      ]
    },
    {
      "cell_type": "markdown",
      "source": [
        "## Olá mundo!\n",
        "\n",
        "Vamso conhecer mais como funciona o ambiente interativo de um notebook. Para isso vamos executar nosso primeiro comando em Python: [`print()`](https://docs.python.org/3/library/functions.html#print)"
      ],
      "metadata": {
        "id": "aLSFP2V7XTfe"
      }
    },
    {
      "cell_type": "code",
      "source": [
        "print('Hello, world')"
      ],
      "metadata": {
        "id": "5s5z5TeP6LDU",
        "colab": {
          "base_uri": "https://localhost:8080/"
        },
        "outputId": "1b985a88-bea9-4053-e1aa-c7f001a5fdfb"
      },
      "execution_count": null,
      "outputs": [
        {
          "output_type": "stream",
          "name": "stdout",
          "text": [
            "Hello, world\n"
          ]
        }
      ]
    },
    {
      "cell_type": "code",
      "source": [
        "print(10)"
      ],
      "metadata": {
        "id": "tNeEkSW06K8X",
        "colab": {
          "base_uri": "https://localhost:8080/"
        },
        "outputId": "f97cdfe3-e3a3-44c0-e0e2-943594b23839"
      },
      "execution_count": null,
      "outputs": [
        {
          "output_type": "stream",
          "name": "stdout",
          "text": [
            "10\n"
          ]
        }
      ]
    },
    {
      "cell_type": "code",
      "source": [
        "print('Eduardo Sampaio', 19)"
      ],
      "metadata": {
        "id": "2sKZJ-PO6K0w",
        "colab": {
          "base_uri": "https://localhost:8080/"
        },
        "outputId": "226cc603-dad5-4c6d-91cb-4bbac0a50f68"
      },
      "execution_count": null,
      "outputs": [
        {
          "output_type": "stream",
          "name": "stdout",
          "text": [
            "Eduardo Sampaio 19\n"
          ]
        }
      ]
    },
    {
      "cell_type": "markdown",
      "source": [
        "# Manipulando dados\n",
        "\n",
        "Vamos aprender sobre as variáveis no python, como elas são declaradas e utilizadas além de conhecer outros comandos dentro do Python. :D"
      ],
      "metadata": {
        "id": "iP8uWQmFYFRs"
      }
    },
    {
      "cell_type": "markdown",
      "source": [
        "## Variáveis\n",
        "\n",
        "Em Data Science nós trabalhamos com vários dados e informações, então é essencial saber trabalhar com variáveis."
      ],
      "metadata": {
        "id": "sLNVmnTbag1Z"
      }
    },
    {
      "cell_type": "markdown",
      "source": [
        "Criamos uma variável no python através da atribuição de um valor a ela.\n",
        "\n",
        "Para fazer isso, colocamos o nome da variável um sinal de igual (`=`) e o valor que queremos atribuir"
      ],
      "metadata": {
        "id": "lsCY0wahAbf6"
      }
    },
    {
      "cell_type": "code",
      "source": [
        "idade = 5"
      ],
      "metadata": {
        "id": "8J3pJghf57ZI"
      },
      "execution_count": null,
      "outputs": []
    },
    {
      "cell_type": "code",
      "source": [
        "print(idade)"
      ],
      "metadata": {
        "id": "Byehj1QR57S1",
        "colab": {
          "base_uri": "https://localhost:8080/"
        },
        "outputId": "7711e144-e1f1-4de6-fe11-330fc5b972b1"
      },
      "execution_count": null,
      "outputs": [
        {
          "output_type": "stream",
          "name": "stdout",
          "text": [
            "5\n"
          ]
        }
      ]
    },
    {
      "cell_type": "code",
      "source": [
        "idade = 10\n",
        "print(idade)"
      ],
      "metadata": {
        "id": "cMjXA8DO58Uj",
        "colab": {
          "base_uri": "https://localhost:8080/"
        },
        "outputId": "0cd0198d-3ad9-4e43-f377-f52d96457ee2"
      },
      "execution_count": null,
      "outputs": [
        {
          "output_type": "stream",
          "name": "stdout",
          "text": [
            "10\n"
          ]
        }
      ]
    },
    {
      "cell_type": "code",
      "source": [
        "idade = 15\n",
        "idade"
      ],
      "metadata": {
        "id": "82qmrXyz58SD",
        "colab": {
          "base_uri": "https://localhost:8080/"
        },
        "outputId": "893c6b84-312c-445b-85f7-42babb2fe54f"
      },
      "execution_count": null,
      "outputs": [
        {
          "output_type": "execute_result",
          "data": {
            "text/plain": [
              "15"
            ]
          },
          "metadata": {},
          "execution_count": 4
        }
      ]
    },
    {
      "cell_type": "code",
      "source": [
        "nome = 'Eduardo Sampaio'\n",
        "nome"
      ],
      "metadata": {
        "id": "h0QjCDb15z7-",
        "colab": {
          "base_uri": "https://localhost:8080/",
          "height": 36
        },
        "outputId": "b35eeca2-04b6-42b4-dad9-982ca41f9981"
      },
      "execution_count": null,
      "outputs": [
        {
          "output_type": "execute_result",
          "data": {
            "text/plain": [
              "'Eduardo Sampaio'"
            ],
            "application/vnd.google.colaboratory.intrinsic+json": {
              "type": "string"
            }
          },
          "metadata": {},
          "execution_count": 5
        }
      ]
    },
    {
      "cell_type": "markdown",
      "source": [
        "Nomes que **não** podemos definir para variáveis:\n",
        "\n",
        "- **Nomes que começam com números**\n",
        "  - Exemplos: `10_notas`, `2_nomes_casa`, etc.\n",
        "- **Palavras separada por espaço**\n",
        "  - Exemplos: `Nome escola`, `notas estudantes`, etc.\n",
        "- **Nomes de funções do Python**\n",
        "  - Exemplos: `print`, `type`, etc."
      ],
      "metadata": {
        "id": "om2N0jHKAzwL"
      }
    },
    {
      "cell_type": "markdown",
      "source": [
        "> Letras maiúsculas e minúsculas vão gerar diferentes variáveis. A varíavel `idade` é diferente de `Idade` que por sua vez também é diferente de `IDADE`:\n",
        "``` Python\n",
        "idade = 1\n",
        "Idade = 2\n",
        "IDADE = 3\n",
        "_idade = 4\n",
        "_idade_ = 5\n",
        "print(idade, Idade, IDADE, _idade, _idade_)\n",
        "1 2 3 4 5\n",
        "```"
      ],
      "metadata": {
        "id": "A19vY2GVMujB"
      }
    },
    {
      "cell_type": "markdown",
      "source": [
        "## Tipos de variáveis\n",
        "\n",
        "Cada variável contém uma classe especifica quanto ao tipo de objeto que ela está se referenciando. Essas classes vão ser diferentes a partir do tipo de dado que nós atribuimos a uma variável.\n",
        "\n",
        "Para saber a classe de cada elemento usamos a função [`type()`](https://docs.python.org/3/library/functions.html#type)"
      ],
      "metadata": {
        "id": "UqhzuBhBHsps"
      }
    },
    {
      "cell_type": "code",
      "source": [
        "i = 5\n",
        "type(i)"
      ],
      "metadata": {
        "id": "-tb-XRcq5v9W",
        "colab": {
          "base_uri": "https://localhost:8080/"
        },
        "outputId": "0cf29df1-06c2-4394-be16-9443ac56bbb9"
      },
      "execution_count": null,
      "outputs": [
        {
          "output_type": "execute_result",
          "data": {
            "text/plain": [
              "int"
            ]
          },
          "metadata": {},
          "execution_count": 6
        }
      ]
    },
    {
      "cell_type": "code",
      "source": [
        "f = 9.8\n",
        "type(f)"
      ],
      "metadata": {
        "id": "5ncn48tw5vw2",
        "colab": {
          "base_uri": "https://localhost:8080/"
        },
        "outputId": "77d60368-3149-4d26-e2e6-5b539a6ce184"
      },
      "execution_count": null,
      "outputs": [
        {
          "output_type": "execute_result",
          "data": {
            "text/plain": [
              "float"
            ]
          },
          "metadata": {},
          "execution_count": 7
        }
      ]
    },
    {
      "cell_type": "code",
      "source": [
        "s = 'olá'\n",
        "type(s)"
      ],
      "metadata": {
        "id": "PURhkDrw5vpB",
        "colab": {
          "base_uri": "https://localhost:8080/"
        },
        "outputId": "16434913-f85e-454f-f82b-cc1fdd2e4942"
      },
      "execution_count": null,
      "outputs": [
        {
          "output_type": "execute_result",
          "data": {
            "text/plain": [
              "str"
            ]
          },
          "metadata": {},
          "execution_count": 8
        }
      ]
    },
    {
      "cell_type": "code",
      "source": [
        "b = True\n",
        "type(b)"
      ],
      "metadata": {
        "id": "w0XcF4MC5vhw",
        "colab": {
          "base_uri": "https://localhost:8080/"
        },
        "outputId": "a23546ff-be22-479b-f40f-2ca83de8d91c"
      },
      "execution_count": null,
      "outputs": [
        {
          "output_type": "execute_result",
          "data": {
            "text/plain": [
              "bool"
            ]
          },
          "metadata": {},
          "execution_count": 9
        }
      ]
    },
    {
      "cell_type": "markdown",
      "source": [
        "Em um conjunto de dados escolares podemos ter vários tipos de informações. Digamos que tenhamos acesso à ficha de dados do aluno *Frabicio Daniel* como transformamos ela em variáveis no Python?\n",
        "\n",
        "#### Ficha:\n",
        "\n",
        "- Nome: Fabricio Daniel\n",
        "- Idade: 15 anos\n",
        "- Media do semestre: 8,45\n",
        "- Situação de aprovação: Verdadeira (aprovado)"
      ],
      "metadata": {
        "id": "O-FxDumfWu0C"
      }
    },
    {
      "cell_type": "code",
      "source": [
        "nome_aluno = 'Fabricio Daniel'\n",
        "idade_aluno = 15\n",
        "media_aluno = 8.45\n",
        "situacao_aluno = True\n",
        "print(nome_aluno, idade_aluno, media_aluno, situacao_aluno)"
      ],
      "metadata": {
        "id": "xZ3Exi2L5ozi",
        "colab": {
          "base_uri": "https://localhost:8080/"
        },
        "outputId": "1498364b-c1e9-48d2-a0ac-7196d525e242"
      },
      "execution_count": null,
      "outputs": [
        {
          "output_type": "stream",
          "name": "stdout",
          "text": [
            "Fabricio Daniel 15 8.45 True\n"
          ]
        }
      ]
    },
    {
      "cell_type": "markdown",
      "source": [
        "## Variáveis numéricas\n",
        "\n",
        "Entre os tipos de dados numéricos vamos nos focar no tipo `inteiro` e `float`."
      ],
      "metadata": {
        "id": "KFq_8Sxf-OG0"
      }
    },
    {
      "cell_type": "markdown",
      "source": [
        "Temos uma tabela de informação de empregos quanto ao cargo, quantidade de pessoas empregadas e o salário correspondente:\n",
        "\n",
        "|Cargo | Quantidade | Salário|\n",
        "|---|---|---|\n",
        "|Segurança | 5 | 3000 |\n",
        "|Docente | 16| 6000|\n",
        "|Diretoria| 1 |12500|\n",
        "\n",
        "Precisamos trabalhar com esses dados fornecendo:\n",
        "\n",
        "- A quantidade total de empregados;\n",
        "- A diferença entre o salário mais baixo e mais alto; e\n",
        "- A média ponderada da faixa salarial da escola."
      ],
      "metadata": {
        "id": "8_HYUbkVYdQY"
      }
    },
    {
      "cell_type": "code",
      "source": [
        "q_seguranca = 5\n",
        "s_seguranca = 3000\n",
        "\n",
        "q_docente = 16\n",
        "s_docente = 6000\n",
        "\n",
        "q_diretoria = 1\n",
        "s_diretoria = 12500"
      ],
      "metadata": {
        "id": "xJIq5MRRZAlj"
      },
      "execution_count": null,
      "outputs": []
    },
    {
      "cell_type": "code",
      "source": [
        "total_empregados = q_seguranca + q_docente + q_diretoria\n",
        "total_empregados"
      ],
      "metadata": {
        "id": "pIgt-k6T5WpB",
        "colab": {
          "base_uri": "https://localhost:8080/"
        },
        "outputId": "3194af4c-9dc8-4d9f-e1d9-5fabaf0c7019"
      },
      "execution_count": null,
      "outputs": [
        {
          "output_type": "execute_result",
          "data": {
            "text/plain": [
              "22"
            ]
          },
          "metadata": {},
          "execution_count": 13
        }
      ]
    },
    {
      "cell_type": "code",
      "source": [
        "diferenca_salario = s_diretoria - s_seguranca\n",
        "diferenca_salario"
      ],
      "metadata": {
        "id": "bL9uGHvp5We5",
        "colab": {
          "base_uri": "https://localhost:8080/"
        },
        "outputId": "70d6d7d4-9d8d-4909-a278-fe56bb83163c"
      },
      "execution_count": null,
      "outputs": [
        {
          "output_type": "execute_result",
          "data": {
            "text/plain": [
              "9500"
            ]
          },
          "metadata": {},
          "execution_count": 15
        }
      ]
    },
    {
      "cell_type": "code",
      "source": [],
      "metadata": {
        "id": "AKyfeJ39LvOg"
      },
      "execution_count": null,
      "outputs": []
    },
    {
      "cell_type": "code",
      "source": [
        "media = (q_seguranca*s_seguranca + q_docente*s_docente + q_diretoria*s_diretoria)/(total_empregados)\n",
        "media"
      ],
      "metadata": {
        "id": "GpTS_c8_5WX_",
        "colab": {
          "base_uri": "https://localhost:8080/"
        },
        "outputId": "aa7ba59f-302a-494a-bec0-c6a50a22283e"
      },
      "execution_count": null,
      "outputs": [
        {
          "output_type": "execute_result",
          "data": {
            "text/plain": [
              "5613.636363636364"
            ]
          },
          "metadata": {},
          "execution_count": 19
        }
      ]
    },
    {
      "cell_type": "markdown",
      "source": [
        "## Strings"
      ],
      "metadata": {
        "id": "yQy7b0ZWoD-P"
      }
    },
    {
      "cell_type": "markdown",
      "source": [
        "Strings são caracterizada por ter um conjunto de caracteres formando um texto.\n",
        "\n",
        "Strigs podem ser criadas ao atribuirmos a uma variável um dado que esteja entre aspas simples (`'`) ou aspas duplas (`\"`)"
      ],
      "metadata": {
        "id": "vlo2-DXusv3s"
      }
    },
    {
      "cell_type": "code",
      "source": [
        "s1 = 'Alura'\n",
        "s2 = \"Alura\"\n",
        "print(type(s1), type(s2))"
      ],
      "metadata": {
        "id": "SSinaAb15FWn",
        "colab": {
          "base_uri": "https://localhost:8080/"
        },
        "outputId": "b9803f9c-8220-4c57-ce2b-34b303e750fd"
      },
      "execution_count": null,
      "outputs": [
        {
          "output_type": "stream",
          "name": "stdout",
          "text": [
            "<class 'str'> <class 'str'>\n"
          ]
        }
      ]
    },
    {
      "cell_type": "markdown",
      "source": [
        "As variáveis textuais contém vários métodos que nos ajudam a formatar strings. Métódos podem ser executados ao definirmos um objeto seguindo a seguinte estrutura:\n",
        "\n",
        "```\n",
        "objeto.metodo()\n",
        "```\n",
        "\n",
        "Existem métodos que não necessitam dos `()`, é preciso verificar a documentação de cada caso."
      ],
      "metadata": {
        "id": "2e9UD_CCxqz_"
      }
    },
    {
      "cell_type": "markdown",
      "source": [
        "---\n",
        "**Situação:**\n",
        "\n",
        "Recebemos uma variável com o nome de uma professora da escola para inserimos no cadastro. No entanto, precisamos tratar esse texto antes de inserirmos no sistema"
      ],
      "metadata": {
        "id": "p6aPmMGP4tf9"
      }
    },
    {
      "cell_type": "code",
      "source": [
        "texto = '  Geovana Alessandra dias Sanyos '"
      ],
      "metadata": {
        "id": "4tkS8Iit1Ccg"
      },
      "execution_count": null,
      "outputs": []
    },
    {
      "cell_type": "markdown",
      "source": [
        "O objetivo final é que o nome esteja da seguinte forma:\n",
        "\n",
        "```\n",
        "'GEOVANA ALESSANDRA DIAS SANTOS'\n",
        "```"
      ],
      "metadata": {
        "id": "Dg2ZXSZOGzjC"
      }
    },
    {
      "cell_type": "markdown",
      "source": [
        "### [`str.upper()` ](https://docs.python.org/3/library/stdtypes.html#str.upper)\n",
        "Converte uma string para maiúsculas"
      ],
      "metadata": {
        "id": "iVTAD8q702eN"
      }
    },
    {
      "cell_type": "code",
      "source": [
        "texto.upper()"
      ],
      "metadata": {
        "id": "sWMt1iWW5LdN",
        "colab": {
          "base_uri": "https://localhost:8080/",
          "height": 36
        },
        "outputId": "8b9c8912-33d7-4544-c8cd-d34316023daf"
      },
      "execution_count": null,
      "outputs": [
        {
          "output_type": "execute_result",
          "data": {
            "text/plain": [
              "'  GEOVANA ALESSANDRA DIAS SANYOS '"
            ],
            "application/vnd.google.colaboratory.intrinsic+json": {
              "type": "string"
            }
          },
          "metadata": {},
          "execution_count": 22
        }
      ]
    },
    {
      "cell_type": "markdown",
      "source": [
        "### [`str.lower()`](https://docs.python.org/3/library/stdtypes.html#str.lower)\n",
        "Método converte uma string para minúsculas."
      ],
      "metadata": {
        "id": "hbDSBtMV1TpG"
      }
    },
    {
      "cell_type": "code",
      "source": [
        "texto.lower()"
      ],
      "metadata": {
        "id": "ypSOC5WR5MTi",
        "colab": {
          "base_uri": "https://localhost:8080/",
          "height": 36
        },
        "outputId": "4e2f3b4f-f5b0-4a18-a560-75c8c1bb0910"
      },
      "execution_count": null,
      "outputs": [
        {
          "output_type": "execute_result",
          "data": {
            "text/plain": [
              "'  geovana alessandra dias sanyos '"
            ],
            "application/vnd.google.colaboratory.intrinsic+json": {
              "type": "string"
            }
          },
          "metadata": {},
          "execution_count": 23
        }
      ]
    },
    {
      "cell_type": "markdown",
      "source": [
        "### [`str.strip()`](https://docs.python.org/3/library/stdtypes.html#str.strip)\n",
        "Método remove os espaços em branco do início e do fim de uma string."
      ],
      "metadata": {
        "id": "kz47eWM11gii"
      }
    },
    {
      "cell_type": "code",
      "source": [
        "texto.strip()"
      ],
      "metadata": {
        "id": "Xys25o1N5NKD",
        "colab": {
          "base_uri": "https://localhost:8080/",
          "height": 36
        },
        "outputId": "ed69c9f2-15a0-439a-fb6b-18b315c0d4d6"
      },
      "execution_count": null,
      "outputs": [
        {
          "output_type": "execute_result",
          "data": {
            "text/plain": [
              "'Geovana Alessandra dias Sanyos'"
            ],
            "application/vnd.google.colaboratory.intrinsic+json": {
              "type": "string"
            }
          },
          "metadata": {},
          "execution_count": 24
        }
      ]
    },
    {
      "cell_type": "markdown",
      "source": [
        "### [`str.replace(antigo, novo)`](https://docs.python.org/3/library/stdtypes.html#str.replace)\n",
        "\n",
        "Método substitui todas as ocorrências do texto \"antigo\" na string por \"novo\""
      ],
      "metadata": {
        "id": "m6notiyS1SCV"
      }
    },
    {
      "cell_type": "code",
      "source": [
        "texto.replace('y', 't')"
      ],
      "metadata": {
        "id": "oY2mU2Id5OcO",
        "colab": {
          "base_uri": "https://localhost:8080/",
          "height": 36
        },
        "outputId": "856d3738-06d1-4a6b-e3fd-77714aa44725"
      },
      "execution_count": null,
      "outputs": [
        {
          "output_type": "execute_result",
          "data": {
            "text/plain": [
              "'  Geovana Alessandra dias Santos '"
            ],
            "application/vnd.google.colaboratory.intrinsic+json": {
              "type": "string"
            }
          },
          "metadata": {},
          "execution_count": 25
        }
      ]
    },
    {
      "cell_type": "markdown",
      "source": [
        "### Observações\n",
        "\n",
        "1. Os métodos retornam uma **tranformação**, não a executam no texto!\n",
        "\n",
        "2. Além disso, podemos acumular a execução de métodos."
      ],
      "metadata": {
        "id": "zukvEjhG2Rcn"
      }
    },
    {
      "cell_type": "code",
      "source": [
        "texto"
      ],
      "metadata": {
        "id": "Q6O5y20u5PQk"
      },
      "execution_count": null,
      "outputs": []
    },
    {
      "cell_type": "markdown",
      "source": [
        "Para que seja executada a transformação nós podemos atribuir às saídas das transformações à variável"
      ],
      "metadata": {
        "id": "1KbwfVut2h6I"
      }
    },
    {
      "cell_type": "code",
      "source": [
        "texto = texto.strip().replace('Y', 'T').upper()\n",
        "texto"
      ],
      "metadata": {
        "id": "W6DiHv2H5Tq-",
        "colab": {
          "base_uri": "https://localhost:8080/",
          "height": 36
        },
        "outputId": "f5a7a895-bcc3-47a0-caea-4f03d18bcde0"
      },
      "execution_count": null,
      "outputs": [
        {
          "output_type": "execute_result",
          "data": {
            "text/plain": [
              "'GEOVANA ALESSANDRA DIAS SANTOS'"
            ],
            "application/vnd.google.colaboratory.intrinsic+json": {
              "type": "string"
            }
          },
          "metadata": {},
          "execution_count": 32
        }
      ]
    },
    {
      "cell_type": "markdown",
      "source": [
        "## Coletando dados\n",
        "\n",
        "Em algumas aplicações precisamos coletar valores da pessoa usuária do nosso projeto. Em python conseguimos coletar dados de usuário através do comando [`input()`](https://docs.python.org/3/library/functions.html#input).\n",
        "\n",
        "Para fazer essa coleta podemos atribuir essa função à uma variável."
      ],
      "metadata": {
        "id": "0h9Fh5G9kHCa"
      }
    },
    {
      "cell_type": "code",
      "source": [
        "nome = input('Escreva seu Nome: ')"
      ],
      "metadata": {
        "id": "iEJyxhIj41id",
        "colab": {
          "base_uri": "https://localhost:8080/"
        },
        "outputId": "72161aa7-5ccc-4dab-c45b-f2372be8d2b9"
      },
      "execution_count": null,
      "outputs": [
        {
          "name": "stdout",
          "output_type": "stream",
          "text": [
            "Escreva seu Nome: Eduardo\n"
          ]
        }
      ]
    },
    {
      "cell_type": "code",
      "source": [
        "nome"
      ],
      "metadata": {
        "id": "MoMXzZkC41Ze",
        "colab": {
          "base_uri": "https://localhost:8080/",
          "height": 36
        },
        "outputId": "94713d4c-fab2-4cec-cb98-b9759c34ce6d"
      },
      "execution_count": null,
      "outputs": [
        {
          "output_type": "execute_result",
          "data": {
            "text/plain": [
              "'Eduardo'"
            ],
            "application/vnd.google.colaboratory.intrinsic+json": {
              "type": "string"
            }
          },
          "metadata": {},
          "execution_count": 34
        }
      ]
    },
    {
      "cell_type": "markdown",
      "source": [
        "O retorno desse comando sempre será uma *string*. Isso quer dizer que mesmo que façamos uma coleta de algo que deva ser numérico, ele será uma string.\n",
        "\n",
        "Então, será preciso **converter o resultado caso não seja desejável obter uma string**."
      ],
      "metadata": {
        "id": "7z7hcLCk_aCY"
      }
    },
    {
      "cell_type": "markdown",
      "source": [
        "Existem funções para conversão de valores:\n",
        "\n",
        "- Inteiros: [`int(dado_para_conversao)`](https://docs.python.org/3/library/functions.html#int)\n",
        "- Float: [`float(dado_para_conversao)`](https://docs.python.org/3/library/functions.html#float)\n",
        "- String: [`str(dado_para_conversao)`](https://docs.python.org/3/library/functions.html#func-str)\n",
        "- Booleano: [`bool(dado_para_conversao)`](https://docs.python.org/3/library/functions.html#bool)"
      ],
      "metadata": {
        "id": "TOlegATj1Jfp"
      }
    },
    {
      "cell_type": "code",
      "source": [
        "ano_entrada = input('Escreva o ano de ingresso do(a) estudante: ')"
      ],
      "metadata": {
        "id": "MQRu7y9646S9",
        "colab": {
          "base_uri": "https://localhost:8080/"
        },
        "outputId": "f264ed42-923b-484b-ff8d-4c664127d239"
      },
      "execution_count": null,
      "outputs": [
        {
          "name": "stdout",
          "output_type": "stream",
          "text": [
            "Escreva o ano de ingresso do(a) estudante: 2023\n"
          ]
        }
      ]
    },
    {
      "cell_type": "code",
      "source": [
        "type(ano_entrada)"
      ],
      "metadata": {
        "id": "FwezgXQA48VF",
        "colab": {
          "base_uri": "https://localhost:8080/"
        },
        "outputId": "944e4364-609f-4676-88ff-9f8b05b4f68b"
      },
      "execution_count": null,
      "outputs": [
        {
          "output_type": "execute_result",
          "data": {
            "text/plain": [
              "str"
            ]
          },
          "metadata": {},
          "execution_count": 36
        }
      ]
    },
    {
      "cell_type": "code",
      "source": [],
      "metadata": {
        "id": "n69vxaLRRkMl"
      },
      "execution_count": null,
      "outputs": []
    },
    {
      "cell_type": "code",
      "source": [
        "ano_entrada = int(input('Escreva o ano de ingresso do(a) estudante: '))"
      ],
      "metadata": {
        "id": "bbRqzmOJ49Q1",
        "colab": {
          "base_uri": "https://localhost:8080/"
        },
        "outputId": "1e7bd2e8-77e3-42cb-f206-ce3d5d216197"
      },
      "execution_count": null,
      "outputs": [
        {
          "name": "stdout",
          "output_type": "stream",
          "text": [
            "Escreva o ano de ingresso do(a) estudante: 2023\n"
          ]
        }
      ]
    },
    {
      "cell_type": "code",
      "source": [
        "type(ano_entrada)"
      ],
      "metadata": {
        "id": "nu5xycbG4-X1",
        "colab": {
          "base_uri": "https://localhost:8080/"
        },
        "outputId": "cc0b780b-d70a-4b98-eac3-d7d3d449a8ef"
      },
      "execution_count": null,
      "outputs": [
        {
          "output_type": "execute_result",
          "data": {
            "text/plain": [
              "int"
            ]
          },
          "metadata": {},
          "execution_count": 38
        }
      ]
    },
    {
      "cell_type": "markdown",
      "source": [
        "Buscaremos apresentar melhor agora o resultado que obtivemos da transformação. Nós conseguimos formatar e apresentar o nosso resultado misturando strings com valores não textuais.\n",
        "\n",
        "Para fazer isso usamos a estrutura de formatação `f` com strings."
      ],
      "metadata": {
        "id": "yNI2-XTbB3aS"
      }
    },
    {
      "cell_type": "code",
      "source": [
        "nota_entrada = float(input('Digite a nota do teste de ingresso: '))\n",
        "print(f'ano de entrada: {ano_entrada} - nota do teste do ingresso: {nota_entrada}')"
      ],
      "metadata": {
        "id": "b1eYnEX-4wXz",
        "colab": {
          "base_uri": "https://localhost:8080/"
        },
        "outputId": "c52de482-1c84-42e6-ea20-c0f8c316a2c4"
      },
      "execution_count": null,
      "outputs": [
        {
          "output_type": "stream",
          "name": "stdout",
          "text": [
            "Digite a nota do teste de ingresso: 9.0\n",
            "ano de entrada: 2023 - nota do teste do ingresso: 9.0\n"
          ]
        }
      ]
    },
    {
      "cell_type": "markdown",
      "source": [
        "# Estruturas condicionais"
      ],
      "metadata": {
        "id": "NwRaiHHHhhyl"
      }
    },
    {
      "cell_type": "markdown",
      "source": [
        "## `IF` e `ELSE`\n",
        "\n",
        "O `if` e `else` são duas estruturas condicionais. O `if` executará o bloco de comando caso a condição colocada for **verdadeira**. O `else` é um caso em que a condicional de `if` seja **falsa**."
      ],
      "metadata": {
        "id": "qXZqg9aYEhAh"
      }
    },
    {
      "cell_type": "markdown",
      "source": [
        "O `if` é uma palavra-chave em Python que significa \"se\". Ele é usado para formar uma estrutura condicional, que permite que você verifique se uma determinada condição é verdadeira ou falsa e, em seguida, execute um bloco de código específico dependendo do resultado da verificação. A sintaxe para usar o `if` é:\n",
        "\n",
        "\n",
        "\n",
        "```\n",
        "if condição:\n",
        "    # faça algo\n",
        "```\n",
        "\n"
      ],
      "metadata": {
        "id": "EIhlqHXd2Gil"
      }
    },
    {
      "cell_type": "code",
      "source": [
        "if 2<7:\n",
        "  print('Condição verdadeira')\n"
      ],
      "metadata": {
        "id": "tKtzkTXW4j73",
        "colab": {
          "base_uri": "https://localhost:8080/"
        },
        "outputId": "6de470f9-90b7-4442-87c2-54bf03b0bb1d"
      },
      "execution_count": null,
      "outputs": [
        {
          "output_type": "stream",
          "name": "stdout",
          "text": [
            "Condição verdadeira\n"
          ]
        }
      ]
    },
    {
      "cell_type": "markdown",
      "source": [
        "Já o `else` em Python é usada em conjunto com a palavra-chave `if` para formar uma estrutura condicional. A sintaxe para usar o `else` é:\n",
        "\n",
        "```\n",
        "if condição:\n",
        "  # código caso seja verdade\n",
        "else:\n",
        "  # código caso seja falso\n",
        "```\n",
        "\n",
        "O `else` é executado quando a condição verificada pelo `if` é avaliada como `False`."
      ],
      "metadata": {
        "id": "27RW2v_sIKct"
      }
    },
    {
      "cell_type": "markdown",
      "source": [
        "---\n",
        "**Situação:**\n",
        "\n",
        "Receberemos a média de estudantes e precisamos de um algoritmo que execute a análise e decida se esse estudante está **Aprovado** ou Reprovado, mostrando uma mensagem do resultado. Para ser aprovado, a média precisa ser igual ou superior à 6.0."
      ],
      "metadata": {
        "id": "BqORg85XX-Nl"
      }
    },
    {
      "cell_type": "code",
      "source": [
        "media = float(input('Digite a média: '))\n",
        "if media >= 6.0:\n",
        "  print('Aprovado(a)')\n",
        "else:\n",
        "    print('Reprovado(a)')"
      ],
      "metadata": {
        "id": "yaR8bt1P4iCv",
        "colab": {
          "base_uri": "https://localhost:8080/"
        },
        "outputId": "cd8c9f57-f78b-443e-b703-b3ca1b3dcdfd"
      },
      "execution_count": null,
      "outputs": [
        {
          "output_type": "stream",
          "name": "stdout",
          "text": [
            "Digite a média: 10.0\n",
            "Aprovado(a)\n"
          ]
        }
      ]
    },
    {
      "cell_type": "markdown",
      "source": [
        "Agora a nossa instituição de ensino lançou uma nota oficial que pessoas que tenham média entre 4.0 e 6.0 podem fazer os cursos de **Recuperação** nas férias para poder recuperar a nota.\n",
        "\n",
        "Então podemos agora fazer um conjunto de `if`s para que possamos estruturar essa nova condição."
      ],
      "metadata": {
        "id": "bD9O17HB6LUo"
      }
    },
    {
      "cell_type": "code",
      "source": [
        "media = float(input('Digite a média: '))\n",
        "\n",
        "if media >= 6.0:\n",
        "  print('Aprovado(a)')\n",
        "if 6.0 > media >= 4.0:\n",
        "  print('Recuperação')\n",
        "if media < 4.0:\n",
        "  print('Reprovado')"
      ],
      "metadata": {
        "id": "Rkde8bai4gvq",
        "colab": {
          "base_uri": "https://localhost:8080/"
        },
        "outputId": "f152b53a-c14c-412e-b1b1-6fa1799971b3"
      },
      "execution_count": null,
      "outputs": [
        {
          "output_type": "stream",
          "name": "stdout",
          "text": [
            "Digite a média: 11\n",
            "Aprovado(a)\n"
          ]
        }
      ]
    },
    {
      "cell_type": "markdown",
      "source": [
        "Notemos que em casos com 3 situações como esse precisamos definir bem nossas condições. Pois foi feita uma construção com `else` no final, ele irá considerar apenas a alguma condicional para ser o caso **falso** podendo resultar em duas (ou mais) execuções.\n",
        "\n",
        "Por exemplo:"
      ],
      "metadata": {
        "id": "D5e2mByjvycO"
      }
    },
    {
      "cell_type": "code",
      "source": [
        "media = float(input('Digite a média: '))\n",
        "if media >= 6.0:\n",
        "  print('Aprovado(a)')\n",
        "if 6.0 > media >= 4.0:\n",
        "  print('Recuperação')\n",
        "else:\n",
        "  print('Reprovado')"
      ],
      "metadata": {
        "id": "tKvjzq414fAN",
        "colab": {
          "base_uri": "https://localhost:8080/"
        },
        "outputId": "7864bb61-c294-4586-fdd1-92d5d8b51717"
      },
      "execution_count": null,
      "outputs": [
        {
          "output_type": "stream",
          "name": "stdout",
          "text": [
            "Digite a média: 3\n",
            "Reprovado\n"
          ]
        }
      ]
    },
    {
      "cell_type": "markdown",
      "source": [
        "## `ELIF`\n",
        "\n",
        "O `elif` é uma palavra-chave em Python que significa \"senão, se\" e pode ser considerado uma união do `else` com um `if`. Ela é usada em conjunto com a palavra-chave `if` para formar uma estrutura condicional encadeada.\n",
        "\n"
      ],
      "metadata": {
        "id": "04T5g-7h4zWx"
      }
    },
    {
      "cell_type": "markdown",
      "source": [
        "A sintaxe para usar o `elif` é:\n",
        "\n",
        "```\n",
        "if condição1:\n",
        "    # faça algo\n",
        "elif condição2:\n",
        "    # faça outra coisa\n",
        "elif condição3:\n",
        "    # faça mais alguma coisa\n",
        "else:\n",
        "    # faça algo diferente\n",
        "```\n",
        "\n",
        "O `elif` permite que você verifique várias condições de forma encadeada, economizando espaço em seu código. Se a primeira condição for avaliada como `False`, o interpretador Python avaliará a próxima condição no `elif`. Isso continuará até que uma condição seja avaliada como `True` ou até que o `else` seja atingido. Se nenhuma das condições forem avaliadas como `True`, a execução do código do `else` será iniciada."
      ],
      "metadata": {
        "id": "rNBHr5mm1Lm6"
      }
    },
    {
      "cell_type": "markdown",
      "source": [
        "Vamos usar o mesmo caso anterior:"
      ],
      "metadata": {
        "id": "MVoykFbB4bd4"
      }
    },
    {
      "cell_type": "code",
      "source": [
        "media = float(input('Digite a média: '))\n",
        "if media >= 6.0:\n",
        "  print('Aprovado(a)')\n",
        "elif 6.0 > media >= 4.0:\n",
        "  print('Recuperação')\n",
        "else:\n",
        "  print('Reprovado')"
      ],
      "metadata": {
        "id": "UJCHKoX54dc2",
        "colab": {
          "base_uri": "https://localhost:8080/"
        },
        "outputId": "68dbff54-67d4-4064-ad3e-331f649b3307"
      },
      "execution_count": null,
      "outputs": [
        {
          "output_type": "stream",
          "name": "stdout",
          "text": [
            "Digite a média: 4\n",
            "Recuperação\n"
          ]
        }
      ]
    },
    {
      "cell_type": "markdown",
      "source": [
        "## Operadores\n",
        "\n",
        "Durante a construção de comandos por vezes precisamos de uma elaboração maior de da expressão condicional, necessitando que alguns operadores lógicos estejam integrados."
      ],
      "metadata": {
        "id": "Tf1wSOem6iwZ"
      }
    },
    {
      "cell_type": "markdown",
      "source": [
        "### `AND`, `OR`, `NOT`\n",
        "\n",
        "Os operadores lógicos `and`, `or` e `not` são usados para combinar expressões lógicas em Python. Eles são usados frequentemente em conjunto com o `if` para criar estruturas condicionais mais complexas.\n"
      ],
      "metadata": {
        "id": "GFIZnRWXGPWO"
      }
    },
    {
      "cell_type": "markdown",
      "source": [
        "- `AND` é usado para verificar se duas condições são verdadeiras. A expressão lógica¹ `x and y` é avaliada como `True` apenas se **ambas as condições `x` e `y` forem verdadeiras**, e como `False` caso contrário.\n",
        "\n",
        "- `OR` é usado para verificar se pelo menos uma das condições é verdadeira. A expressão lógica `x or y` é avaliada como `True` **se pelo menos uma das condições `x` ou `y` for verdadeira**, e como `False` se ambas forem falsas.\n",
        "\n",
        "- `NOT` é usado para **negar uma condição**. A expressão lógica not x é avaliada como True se a condição x for falsa, e como False se a condição x for verdadeira.\n",
        "\n",
        "¹ Uma expressão lógica é uma declaração que pode ser avaliada como verdadeira ou falsa. Ela é composta por operandos lógicos² e operadores lógicos³, que são usados ​​para combinar várias expressões lógicas em uma única expressão.\n",
        "\n",
        "² Os operandos lógicos são os elementos que são comparados ou avaliados em uma expressão lógica. Eles são geralmente valores verdadeiros ou falsos, mas também podem ser expressões lógicas mais complexas. Em Python, os operandos lógicos são os valores `True` e `False`.\n",
        "\n",
        "³ Os operadores lógicos são os símbolos ou palavras-chave que são usados ​​para combinar várias expressões lógicas em uma única expressão. Em Python, os operadores lógicos são `and`, `or` e `not`, bem como as palavras-chave `if`, `elif` e `else`."
      ],
      "metadata": {
        "id": "Z_dgAoHXJbzB"
      }
    },
    {
      "cell_type": "code",
      "source": [
        "t1 = t2 = True\n",
        "f1 = f2 = False"
      ],
      "metadata": {
        "id": "Fs_qb0dLOXsj"
      },
      "execution_count": null,
      "outputs": []
    },
    {
      "cell_type": "code",
      "source": [
        "if t1 and f2:\n",
        "  print('expressão verdadeira')\n",
        "else:\n",
        "  print('expressão falsa')"
      ],
      "metadata": {
        "id": "kL4QVdlZ4O43",
        "colab": {
          "base_uri": "https://localhost:8080/"
        },
        "outputId": "f09e99e2-69e8-452e-d2dc-e03e6b77a0bf"
      },
      "execution_count": null,
      "outputs": [
        {
          "output_type": "stream",
          "name": "stdout",
          "text": [
            "expressão falsa\n"
          ]
        }
      ]
    },
    {
      "cell_type": "code",
      "source": [
        "if f1 or t2:\n",
        "  print('expressão verdadeira')\n",
        "else:\n",
        "  print('expressão falsa')"
      ],
      "metadata": {
        "id": "JmQYjvsz4Pw5",
        "colab": {
          "base_uri": "https://localhost:8080/"
        },
        "outputId": "2874aa57-504d-4439-dd9c-54c7e3881883"
      },
      "execution_count": null,
      "outputs": [
        {
          "output_type": "stream",
          "name": "stdout",
          "text": [
            "expressão verdadeira\n"
          ]
        }
      ]
    },
    {
      "cell_type": "code",
      "source": [
        "if not f1 :\n",
        "  print('expressão verdadeira')\n",
        "else:\n",
        "  print('expressão falsa')"
      ],
      "metadata": {
        "id": "WHfJ-ZLM4Q3k",
        "colab": {
          "base_uri": "https://localhost:8080/"
        },
        "outputId": "9b2bd89e-1eb7-4285-df8b-cf46f788bea1"
      },
      "execution_count": null,
      "outputs": [
        {
          "output_type": "stream",
          "name": "stdout",
          "text": [
            "expressão verdadeira\n"
          ]
        }
      ]
    },
    {
      "cell_type": "markdown",
      "source": [
        "### `IN`\n",
        "\n",
        "É usado para verificar se um elemento está presente em uma lista, tupla ou outra variável de conjunto. A expressão `x in y` é avaliada como `True` se o elemento `x` estiver presente na variável de conjunto `y`, e como `False` caso contrário."
      ],
      "metadata": {
        "id": "w7EXG1dhWtja"
      }
    },
    {
      "cell_type": "markdown",
      "source": [
        "Podemos verificar isso com variáveis de texto.\n",
        "\n",
        "---\n",
        "\n",
        "**Situação:**\n",
        "\n",
        "Na escola foi passada uma lista com nomes de estudantes que foram aprovados por média no semestre, mas é preciso verificar se alguns nomes estão nessa lista para verificar se os dados estão corretos.\n",
        "\n",
        "A lista distribuida pode ser observada abaixo:\n",
        "\n",
        "```\n",
        "lista = 'José da Silva, Maria Oliveira, Pedro Martins, Ana Souza, Carlos Rodrigues, Juliana Santos, Bruno Gomes, Beatriz Costa, Felipe Almeida, Mariana Fernandes, João Pinto, Luísa Nascimento, Gabriel Souza, Manuela Santos, Thiago Oliveira, Sofia Ferreira, Rafael Albuquerque, Isabella Gomes, Bruno Costa, Maria Martins, Rafaela Souza, Matheus Fernandes, Luísa Almeida, Beatriz Pinto, Mariana Rodrigues, Gabriel Nascimento, João Ferreira, Maria Albuquerque, Felipe Oliveira\n",
        "'\n",
        "```\n",
        "\n",
        "Os nomes que precisam ser verificados são os seguintes:\n",
        "\n",
        "```\n",
        "nome_1 = 'Mariana Rodrigues'\n",
        "nome_2 = 'Marcelo Nogueira'\n",
        "```"
      ],
      "metadata": {
        "id": "enJNp6JenQbq"
      }
    },
    {
      "cell_type": "code",
      "source": [
        "lista = 'José da Silva, Maria Oliveira, Pedro Martins, Ana Souza, Carlos Rodrigues, Juliana Santos, Bruno Gomes, Beatriz Costa, Felipe Almeida, Mariana Fernandes, João Pinto, Luísa Nascimento, Gabriel Souza, Manuela Santos, Thiago Oliveira, Sofia Ferreira, Rafael Albuquerque, Isabella Gomes, Bruno Costa, Maria Martins, Rafaela Souza, Matheus Fernandes, Luísa Almeida, Beatriz Pinto, Mariana Rodrigues, Gabriel Nascimento, João Ferreira, Maria Albuquerque, Felipe Oliveira'\n",
        "lista"
      ],
      "metadata": {
        "id": "kU25ABUQ5NBe",
        "colab": {
          "base_uri": "https://localhost:8080/",
          "height": 70
        },
        "outputId": "8fa88392-7c58-446a-cdf7-9440f87c5d4d"
      },
      "execution_count": null,
      "outputs": [
        {
          "output_type": "execute_result",
          "data": {
            "text/plain": [
              "'José da Silva, Maria Oliveira, Pedro Martins, Ana Souza, Carlos Rodrigues, Juliana Santos, Bruno Gomes, Beatriz Costa, Felipe Almeida, Mariana Fernandes, João Pinto, Luísa Nascimento, Gabriel Souza, Manuela Santos, Thiago Oliveira, Sofia Ferreira, Rafael Albuquerque, Isabella Gomes, Bruno Costa, Maria Martins, Rafaela Souza, Matheus Fernandes, Luísa Almeida, Beatriz Pinto, Mariana Rodrigues, Gabriel Nascimento, João Ferreira, Maria Albuquerque, Felipe Oliveira'"
            ],
            "application/vnd.google.colaboratory.intrinsic+json": {
              "type": "string"
            }
          },
          "metadata": {},
          "execution_count": 21
        }
      ]
    },
    {
      "cell_type": "code",
      "source": [
        "nome_1 = 'Mariana Rodrigues'\n",
        "nome_2 = 'Marcelo Nogueira'"
      ],
      "metadata": {
        "id": "GY82qLpivC6Y"
      },
      "execution_count": null,
      "outputs": []
    },
    {
      "cell_type": "code",
      "source": [
        "if nome_1 in lista:\n",
        "  print(f'{nome_1} está na lista')\n",
        "else:\n",
        "  print(f'{nome_1} não está na lista')"
      ],
      "metadata": {
        "id": "ipyXfbpb37b0",
        "colab": {
          "base_uri": "https://localhost:8080/"
        },
        "outputId": "d07ecde9-eba4-4ee3-c597-d1c22e3c760d"
      },
      "execution_count": null,
      "outputs": [
        {
          "output_type": "stream",
          "name": "stdout",
          "text": [
            "Mariana Rodrigues está na lista\n"
          ]
        }
      ]
    },
    {
      "cell_type": "code",
      "source": [
        "if nome_1 in lista:\n",
        "  print(f'{nome_2} está na lista')\n",
        "else:\n",
        "  print(f'{nome_2} não está na lista')"
      ],
      "metadata": {
        "id": "KfXxC9A537RP",
        "colab": {
          "base_uri": "https://localhost:8080/"
        },
        "outputId": "248bae02-800d-41e8-b52c-e1d5cbd37293"
      },
      "execution_count": null,
      "outputs": [
        {
          "output_type": "stream",
          "name": "stdout",
          "text": [
            "Marcelo Nogueira está na lista\n"
          ]
        }
      ]
    },
    {
      "cell_type": "markdown",
      "source": [
        "# Estruturas de repetição"
      ],
      "metadata": {
        "id": "aL1vJPewvwvz"
      }
    },
    {
      "cell_type": "markdown",
      "source": [
        "Quando temos que executar um mesmo bloco de comandos por várias vezes não é muito interessante fazer isso à mão.\n",
        "\n",
        "Imaginemos a situação de termos que coletar e imprimir a média de duas notas de **3 estudantes**:"
      ],
      "metadata": {
        "id": "VcPfCa8d-84t"
      }
    },
    {
      "cell_type": "code",
      "source": [
        "nota_1 = float(input('Digite a 1° nota: '))\n",
        "nota_2 = float(input('Digite a 2° nota: '))\n",
        "\n",
        "print(f'Média: {(nota_1+nota_2)/2}')"
      ],
      "metadata": {
        "id": "LzPyN4Ad3qwy"
      },
      "execution_count": null,
      "outputs": []
    },
    {
      "cell_type": "markdown",
      "source": [
        "Agora imaginemos uma situação em que não são apenas 3 estudantes, mas sim 100 estudantes. Não seria interessante repetir o mesmo código por 100 vezes, mas sim **executar o mesmo código 100 vezes**.\n",
        "\n",
        "Essa repetição conseguimos construir com laços de repetição!"
      ],
      "metadata": {
        "id": "9puIuvUbFSFX"
      }
    },
    {
      "cell_type": "markdown",
      "source": [
        "## `WHILE`"
      ],
      "metadata": {
        "id": "uLO9-aE4-wx8"
      }
    },
    {
      "cell_type": "markdown",
      "source": [
        "O laço `while` é uma estrutura de controle de repetição em Python que permite executar um bloco de código repetidamente enquanto uma determinada condição é verdadeira. Sua estrutura é:\n",
        "\n",
        "\n",
        "\n",
        "```\n",
        "while condição:\n",
        "    # bloco de código\n",
        "```\n",
        "\n",
        "Vamos construir um exemplo com um contador de 1 até 10.\n"
      ],
      "metadata": {
        "id": "rXZxDMiqHxm9"
      }
    },
    {
      "cell_type": "code",
      "source": [
        "contador = 1\n",
        "while contador <= 10:\n",
        "  print(contador)\n",
        "  contador +=1"
      ],
      "metadata": {
        "id": "6b_izu633j0O",
        "colab": {
          "base_uri": "https://localhost:8080/"
        },
        "outputId": "3f5474b5-0dc8-4544-a520-51a94d864c8a"
      },
      "execution_count": 2,
      "outputs": [
        {
          "output_type": "stream",
          "name": "stdout",
          "text": [
            "1\n",
            "2\n",
            "3\n",
            "4\n",
            "5\n",
            "6\n",
            "7\n",
            "8\n",
            "9\n",
            "10\n"
          ]
        }
      ]
    },
    {
      "cell_type": "markdown",
      "source": [
        "Agora vamos coletar as notas e médias de cada aluno dentro do while. Faremos um exemplo com 3 médias."
      ],
      "metadata": {
        "id": "W4KZPBJuIrut"
      }
    },
    {
      "cell_type": "code",
      "source": [
        "contador = 1\n",
        "while contador <=3:\n",
        "  nota_1 = float(input('Digite a 1° nota: '))\n",
        "  nota_2 = float(input('Digite a 2° nota: '))\n",
        "\n",
        "  print(f'Média: {(nota_1+nota_2)/2}')\n",
        "  contador +=1"
      ],
      "metadata": {
        "id": "aIeQ_CzW3jiP",
        "colab": {
          "base_uri": "https://localhost:8080/"
        },
        "outputId": "cd866566-daae-417c-9b0e-f25b84f4be01"
      },
      "execution_count": 3,
      "outputs": [
        {
          "output_type": "stream",
          "name": "stdout",
          "text": [
            "Digite a 1° nota: 5\n",
            "Digite a 2° nota: 6\n",
            "Média: 5.5\n",
            "Digite a 1° nota: 7\n",
            "Digite a 2° nota: 9\n",
            "Média: 8.0\n",
            "Digite a 1° nota: 4\n",
            "Digite a 2° nota: 4\n",
            "Média: 4.0\n"
          ]
        }
      ]
    },
    {
      "cell_type": "markdown",
      "source": [
        "## `FOR`"
      ],
      "metadata": {
        "id": "WgAIaENMMfCP"
      }
    },
    {
      "cell_type": "markdown",
      "source": [
        "O laço `for` é um tipo de estrutura de controle de fluxo em Python que permite iterar sobre um conjunto de elementos. A sua estrutura é:\n",
        "\n",
        "\n",
        "\n",
        "```\n",
        "for elemento in conjunto:\n",
        "    # código a ser executado para cada elemento\n",
        "```\n",
        "\n",
        "O laço for itera sobre cada elemento do conjunto especificado e executa o bloco de código dentro do laço para cada elemento. Quando o laço chega ao final do conjunto, ele é interrompido e o programa continua a execução após o laço.\n",
        "\n"
      ],
      "metadata": {
        "id": "HxrSZoRAMh-x"
      }
    },
    {
      "cell_type": "markdown",
      "source": [
        "O conjunto pode ser gerado com a função [`range()`](https://docs.python.org/3/library/functions.html#func-range). Que é uma função capaz de gerar uma sequência de números inteiros. A estrutura dessa função é:\n",
        "\n",
        "```\n",
        "range(inicio, fim, passo)\n",
        "```\n",
        "\n",
        "Segundo a documentação, o `range()` gera uma sequência de números inteiros a partir do valor do parâmetro `inicio` até o valor do parâmetro `fim`, de acordo com o valor do parâmetro `passo`. Se `inicio` não for especificado, o valor padrão é 0. Se `passo` não for especificado, o valor padrão é 1.\n",
        "\n",
        "\n"
      ],
      "metadata": {
        "id": "6VgjyoQtPHBM"
      }
    },
    {
      "cell_type": "markdown",
      "source": [
        "Vamos fazer o mesmo contador `while` agora com `for`."
      ],
      "metadata": {
        "id": "ryn0hfdlUwC8"
      }
    },
    {
      "cell_type": "code",
      "source": [
        "for contador in range(1, 11):\n",
        "  print(contador)"
      ],
      "metadata": {
        "id": "t6qcdPyP3YgZ",
        "colab": {
          "base_uri": "https://localhost:8080/"
        },
        "outputId": "81686208-6807-48da-a631-1b239c2251f6"
      },
      "execution_count": 4,
      "outputs": [
        {
          "output_type": "stream",
          "name": "stdout",
          "text": [
            "1\n",
            "2\n",
            "3\n",
            "4\n",
            "5\n",
            "6\n",
            "7\n",
            "8\n",
            "9\n",
            "10\n"
          ]
        }
      ]
    },
    {
      "cell_type": "code",
      "source": [
        "total_imoveis = 0\n",
        "\n",
        "for ano in range(2017,2023):\n",
        "  quantidade_imoveis = float(input(f'Digite a quantidade de imóveis no ano {ano}: '))\n",
        "  total_imoveis += quantidade_imoveis\n",
        "\n",
        "print(f'Total de imóveis construídos: {total_imoveis} imóveis')\n"
      ],
      "metadata": {
        "id": "KBeY8z573YWz",
        "colab": {
          "base_uri": "https://localhost:8080/"
        },
        "outputId": "8cbb5b88-5fe5-495e-b985-077425b32cd7"
      },
      "execution_count": 6,
      "outputs": [
        {
          "output_type": "stream",
          "name": "stdout",
          "text": [
            "Digite a quantidade de imóveis no ano 2017: 5\n",
            "Digite a quantidade de imóveis no ano 2018: 6\n",
            "Digite a quantidade de imóveis no ano 2019: 8\n",
            "Digite a quantidade de imóveis no ano 2020: 9\n",
            "Digite a quantidade de imóveis no ano 2021: 10\n",
            "Digite a quantidade de imóveis no ano 2022: 4\n",
            "Total de imóveis construídos: 42.0 imóveis\n"
          ]
        }
      ]
    },
    {
      "cell_type": "markdown",
      "source": [
        "# Estruturas de dados"
      ],
      "metadata": {
        "id": "8noP8OJ0Vhux"
      }
    },
    {
      "cell_type": "markdown",
      "source": [
        "Um conjunto de elementos é uma coleção de itens, que são armazenados juntos de maneira organizada. Alguns exemplos de conjuntos de elementos em Python são listas, strings e dicionários."
      ],
      "metadata": {
        "id": "xpEUkefTu8fY"
      }
    },
    {
      "cell_type": "markdown",
      "source": [
        "## Listas"
      ],
      "metadata": {
        "id": "THSg4KYLwxIb"
      }
    },
    {
      "cell_type": "markdown",
      "source": [
        "As listas podem armazenar uma coleção de itens em ordem. Eles são delimitados por colchetes `[]` e os itens são separados por vírgulas.\n",
        "\n",
        "Elas também podem armazenar qualquer tipo de item, incluindo números, strings, objetos e outras listas. Elas também podem armazenar itens de tipos de dados diferentes juntos em uma única lista."
      ],
      "metadata": {
        "id": "dzpsiqrOyJcK"
      }
    },
    {
      "cell_type": "code",
      "source": [
        "lista = ['Fabricio Daniel', 9.5,9.0,8.0,True]\n",
        "lista"
      ],
      "metadata": {
        "id": "1NSzXfct3Lkw",
        "colab": {
          "base_uri": "https://localhost:8080/"
        },
        "outputId": "0f6d565e-26bb-4ea1-8a8b-27e0f41b0512"
      },
      "execution_count": 7,
      "outputs": [
        {
          "output_type": "execute_result",
          "data": {
            "text/plain": [
              "['Fabricio Daniel', 9.5, 9.0, 8.0, True]"
            ]
          },
          "metadata": {},
          "execution_count": 7
        }
      ]
    },
    {
      "cell_type": "markdown",
      "source": [
        "As listas são organizadas em Python porque **cada elemento da lista tem um índice que indica sua posição na lista**. Os índices começam em 0 e vão até o tamanho da lista menos 1."
      ],
      "metadata": {
        "id": "qUz3sJNl6LgK"
      }
    },
    {
      "cell_type": "markdown",
      "source": [
        "Temos então 5 elementos com índices variando de 0 a 4, ordenadamente:\n",
        "\n",
        "```\n",
        "#             [0]           [1]   [2]   [3]    [4]\n",
        "lista = ['Fabricio Daniel', 9.5 , 9.0 , 8.0 , True]\n",
        "```\n",
        "\n",
        "Em Python temos também os índices **negativos** que se iniciam no último elemento com o valor de `-1` e depois avancam no universo dos negativos até chegar no 1° elemeno:\n",
        "\n",
        "```\n",
        "#             [-5]         [-4]  [-3]  [-2]   [-1]\n",
        "lista = ['Fabricio Daniel', 9.5 , 9.0 , 8.0 , True]\n",
        "```\n",
        "\n",
        "Conseguimos selecionar separadamente cada elemento através de seus respectivos índices. Colocando o nome da lista e em seguida o índice a ser selecionado."
      ],
      "metadata": {
        "id": "rLf-Qg526hFD"
      }
    },
    {
      "cell_type": "code",
      "source": [
        "lista [0]"
      ],
      "metadata": {
        "id": "S1lf1DWg3J7A",
        "colab": {
          "base_uri": "https://localhost:8080/",
          "height": 36
        },
        "outputId": "e1ba20d3-eb83-430b-c1cc-a2c05f340443"
      },
      "execution_count": 8,
      "outputs": [
        {
          "output_type": "execute_result",
          "data": {
            "text/plain": [
              "'Fabricio Daniel'"
            ],
            "application/vnd.google.colaboratory.intrinsic+json": {
              "type": "string"
            }
          },
          "metadata": {},
          "execution_count": 8
        }
      ]
    },
    {
      "cell_type": "code",
      "source": [
        "lista[1]"
      ],
      "metadata": {
        "id": "5MZu9F6S3JxS",
        "colab": {
          "base_uri": "https://localhost:8080/"
        },
        "outputId": "e4ecd346-c829-4cb2-f216-782196bd67e3"
      },
      "execution_count": 9,
      "outputs": [
        {
          "output_type": "execute_result",
          "data": {
            "text/plain": [
              "9.5"
            ]
          },
          "metadata": {},
          "execution_count": 9
        }
      ]
    },
    {
      "cell_type": "code",
      "source": [
        "lista[-1]"
      ],
      "metadata": {
        "id": "9uLwwKom3Jmg",
        "colab": {
          "base_uri": "https://localhost:8080/"
        },
        "outputId": "0aee9f3a-3ca7-414f-e064-c533f0e23016"
      },
      "execution_count": 10,
      "outputs": [
        {
          "output_type": "execute_result",
          "data": {
            "text/plain": [
              "True"
            ]
          },
          "metadata": {},
          "execution_count": 10
        }
      ]
    },
    {
      "cell_type": "markdown",
      "source": [
        "Uma forma mais dinâmica de trabalhar item por item de uma lista é utilizando um laço for para leitura elemento a elemento."
      ],
      "metadata": {
        "id": "6TaE1ijmBTCd"
      }
    },
    {
      "cell_type": "code",
      "source": [
        "for elemento in lista:\n",
        "  print(elemento)"
      ],
      "metadata": {
        "id": "2GWvY7F-3IVP",
        "colab": {
          "base_uri": "https://localhost:8080/"
        },
        "outputId": "60d45099-732e-4603-bb9f-8157ab6a4355"
      },
      "execution_count": 11,
      "outputs": [
        {
          "output_type": "stream",
          "name": "stdout",
          "text": [
            "Fabricio Daniel\n",
            "9.5\n",
            "9.0\n",
            "8.0\n",
            "True\n"
          ]
        }
      ]
    },
    {
      "cell_type": "markdown",
      "source": [
        "A nota `8.0` de Fabricio Daniel precisa ser ajustada pois ganhou 2 pontos em sua ultima nota por fazer um trabalho de turma. Então é necessária fazer uma troca no valor do índice `3` de `8.0` para `10.0`."
      ],
      "metadata": {
        "id": "Dh1_HnIVvucY"
      }
    },
    {
      "cell_type": "code",
      "source": [
        "linguagem = 'Python'\n",
        "print(linguagem[0], linguagem[1], linguagem[2], linguagem[-3], linguagem[-2], linguagem[-1])"
      ],
      "metadata": {
        "id": "ffFiIlji3G7H",
        "colab": {
          "base_uri": "https://localhost:8080/"
        },
        "outputId": "8d9b3508-019a-4d7d-b340-5103a7743e91"
      },
      "execution_count": 14,
      "outputs": [
        {
          "output_type": "stream",
          "name": "stdout",
          "text": [
            "P y t h o n\n"
          ]
        }
      ]
    },
    {
      "cell_type": "markdown",
      "source": [
        "conseguimos calcular a média do aluno a partir dos dados que temos"
      ],
      "metadata": {
        "id": "53XduzXkycAf"
      }
    },
    {
      "cell_type": "code",
      "source": [
        "media = (lista[1] + lista[2] + lista[3])/3\n",
        "media"
      ],
      "metadata": {
        "id": "fRy9twzI3GFI",
        "colab": {
          "base_uri": "https://localhost:8080/"
        },
        "outputId": "10adc3df-ff31-4d95-c7e3-22a30a9d9729"
      },
      "execution_count": 23,
      "outputs": [
        {
          "output_type": "execute_result",
          "data": {
            "text/plain": [
              "9.5"
            ]
          },
          "metadata": {},
          "execution_count": 23
        }
      ]
    },
    {
      "cell_type": "markdown",
      "source": [
        "## Manipulação de listas\n",
        "\n",
        "As listas são muito úteis em Python porque permitem armazenar e acessar uma coleção de itens de maneira organizada e rápida. Elas também oferecem muitos métodos úteis para manipular os itens armazenados, como adicionar, remover, classificar e pesquisar elementos."
      ],
      "metadata": {
        "id": "d-iYr10-y4qw"
      }
    },
    {
      "cell_type": "markdown",
      "source": [
        "#### Quantidade de elementos\n",
        "\n",
        "Usamos a função [`len()`](https://docs.python.org/3/library/functions.html#len) para descobrimos a quantidade de elementos de um conjunto."
      ],
      "metadata": {
        "id": "ZLqx9A97XVB_"
      }
    },
    {
      "cell_type": "code",
      "source": [
        "len(lista)"
      ],
      "metadata": {
        "id": "TOVGVubX3BI_",
        "colab": {
          "base_uri": "https://localhost:8080/"
        },
        "outputId": "37311283-7cf2-4ec0-f513-af374aff3248"
      },
      "execution_count": 15,
      "outputs": [
        {
          "output_type": "execute_result",
          "data": {
            "text/plain": [
              "5"
            ]
          },
          "metadata": {},
          "execution_count": 15
        }
      ]
    },
    {
      "cell_type": "markdown",
      "source": [
        "#### Partição\n",
        "\n",
        "A partição de listas por indexação em Python é uma técnica muito útil para selecionar um subconjunto de elementos de uma lista. Ela é feita usando a sintaxe `lista[inicio:fim]`, onde `inicio` é o índice do primeiro elemento a ser incluído na partição e `fim` é o índice do primeiro elemento a ser excluído da partição."
      ],
      "metadata": {
        "id": "Z5tpstlHJss3"
      }
    },
    {
      "cell_type": "code",
      "source": [
        "lista[1:4]"
      ],
      "metadata": {
        "id": "Gm9RaTnG28uC",
        "colab": {
          "base_uri": "https://localhost:8080/"
        },
        "outputId": "d9439f04-6fbd-47cd-f11c-2be5f6bd3636"
      },
      "execution_count": 16,
      "outputs": [
        {
          "output_type": "execute_result",
          "data": {
            "text/plain": [
              "[9.5, 9.0, 10.0]"
            ]
          },
          "metadata": {},
          "execution_count": 16
        }
      ]
    },
    {
      "cell_type": "code",
      "source": [
        "lista[1:3]"
      ],
      "metadata": {
        "id": "LfitkLcQ26MO",
        "colab": {
          "base_uri": "https://localhost:8080/"
        },
        "outputId": "5dad35c4-e4fd-4699-abc7-d33027c596a1"
      },
      "execution_count": 17,
      "outputs": [
        {
          "output_type": "execute_result",
          "data": {
            "text/plain": [
              "[9.5, 9.0]"
            ]
          },
          "metadata": {},
          "execution_count": 17
        }
      ]
    },
    {
      "cell_type": "code",
      "source": [
        "lista[:3]"
      ],
      "metadata": {
        "id": "1-99Q09W28Bu",
        "colab": {
          "base_uri": "https://localhost:8080/"
        },
        "outputId": "c18f4c4f-43a4-42eb-cd27-d96be42dc215"
      },
      "execution_count": 18,
      "outputs": [
        {
          "output_type": "execute_result",
          "data": {
            "text/plain": [
              "['Fabricio Daniel', 9.5, 9.0]"
            ]
          },
          "metadata": {},
          "execution_count": 18
        }
      ]
    },
    {
      "cell_type": "code",
      "source": [
        "lista[3:]"
      ],
      "metadata": {
        "id": "j23Uwma5226l",
        "colab": {
          "base_uri": "https://localhost:8080/"
        },
        "outputId": "0ac99e6a-0162-4e5c-c7de-66fa3583db20"
      },
      "execution_count": 19,
      "outputs": [
        {
          "output_type": "execute_result",
          "data": {
            "text/plain": [
              "[10.0, True]"
            ]
          },
          "metadata": {},
          "execution_count": 19
        }
      ]
    },
    {
      "cell_type": "code",
      "source": [
        "lista[:]"
      ],
      "metadata": {
        "id": "zfMrd28_21_q",
        "colab": {
          "base_uri": "https://localhost:8080/"
        },
        "outputId": "48df5166-b6d3-4e13-f8f3-f42d318704b8"
      },
      "execution_count": 20,
      "outputs": [
        {
          "output_type": "execute_result",
          "data": {
            "text/plain": [
              "['Fabricio Daniel', 9.5, 9.0, 10.0, True]"
            ]
          },
          "metadata": {},
          "execution_count": 20
        }
      ]
    },
    {
      "cell_type": "markdown",
      "source": [
        "#### [`append()`](https://docs.python.org/3/tutorial/datastructures.html#:~:text=of%20list%20objects%3A-,list.append(x),-Add%20an%20item)\n",
        "\n",
        "Adiciona um elemento ao final da lista."
      ],
      "metadata": {
        "id": "O0RRyabkRzZC"
      }
    },
    {
      "cell_type": "code",
      "source": [
        "lista.append(media)\n",
        "lista"
      ],
      "metadata": {
        "id": "Sr2BasZE20qF",
        "colab": {
          "base_uri": "https://localhost:8080/"
        },
        "outputId": "be9b6169-4ad3-4de5-cbf0-d3af020c7133"
      },
      "execution_count": 24,
      "outputs": [
        {
          "output_type": "execute_result",
          "data": {
            "text/plain": [
              "['Fabricio Daniel', 9.5, 9.0, 10.0, True, 9.5]"
            ]
          },
          "metadata": {},
          "execution_count": 24
        }
      ]
    },
    {
      "cell_type": "markdown",
      "source": [
        "#### [`extend()`](https://docs.python.org/3/tutorial/datastructures.html#:~:text=list.extend(iterable))\n",
        "\n",
        "Adiciona vários elementos ao final da lista.\n",
        "\n",
        "Adicionaremos as notas `[10.0,8.0,9.0]` na lista do Fabricio Daniel"
      ],
      "metadata": {
        "id": "uQV91XMsUOJD"
      }
    },
    {
      "cell_type": "code",
      "source": [
        "lista.extend([10.0,8.0,9.0])\n",
        "lista"
      ],
      "metadata": {
        "id": "b8a6wX2w2zrs",
        "colab": {
          "base_uri": "https://localhost:8080/"
        },
        "outputId": "91fa31a8-ceae-4c24-e355-d084ad7928f1"
      },
      "execution_count": 26,
      "outputs": [
        {
          "output_type": "execute_result",
          "data": {
            "text/plain": [
              "['Fabricio Daniel', 9.5, 9.0, 10.0, True, 9.5, 10.0, 8.0, 9.0]"
            ]
          },
          "metadata": {},
          "execution_count": 26
        }
      ]
    },
    {
      "cell_type": "markdown",
      "source": [
        "*Isso não é possivel ser feito com o* `append`."
      ],
      "metadata": {
        "id": "IVJvkTwNUk6M"
      }
    },
    {
      "cell_type": "code",
      "source": [
        "lista.append([10.0,8.0,9.0])\n",
        "lista"
      ],
      "metadata": {
        "id": "DyT9kWkB2yeB",
        "colab": {
          "base_uri": "https://localhost:8080/"
        },
        "outputId": "8bfce880-529f-4092-8516-0f433c18ef24"
      },
      "execution_count": 27,
      "outputs": [
        {
          "output_type": "execute_result",
          "data": {
            "text/plain": [
              "['Fabricio Daniel',\n",
              " 9.5,\n",
              " 9.0,\n",
              " 10.0,\n",
              " True,\n",
              " 9.5,\n",
              " 10.0,\n",
              " 8.0,\n",
              " 9.0,\n",
              " [10.0, 8.0, 9.0]]"
            ]
          },
          "metadata": {},
          "execution_count": 27
        }
      ]
    },
    {
      "cell_type": "markdown",
      "source": [
        "#### [`remove()`](https://docs.python.org/3/tutorial/datastructures.html#:~:text=append(x).-,list.remove(x),-Remove%20the%20first)\n",
        "\n",
        "Remove um elemento específico da lista."
      ],
      "metadata": {
        "id": "dPGM5gpyUX1z"
      }
    },
    {
      "cell_type": "code",
      "source": [
        "lista.remove([10.0,8.0,9.0])\n",
        "lista"
      ],
      "metadata": {
        "id": "QgXraxZL2xZN",
        "colab": {
          "base_uri": "https://localhost:8080/"
        },
        "outputId": "16c76341-076c-4286-cdfd-2e59b453c095"
      },
      "execution_count": 28,
      "outputs": [
        {
          "output_type": "execute_result",
          "data": {
            "text/plain": [
              "['Fabricio Daniel', 9.5, 9.0, 10.0, True, 9.5, 10.0, 8.0, 9.0]"
            ]
          },
          "metadata": {},
          "execution_count": 28
        }
      ]
    },
    {
      "cell_type": "markdown",
      "source": [
        "## Dicionário"
      ],
      "metadata": {
        "id": "Rc22Vc08YDZ2"
      }
    },
    {
      "cell_type": "markdown",
      "source": [
        "Os dicionários são um tipo de estrutura de dados que armazenam pares de *chave-valor*. Eles são delimitados por chaves `{}` e os pares *chave-valor* são separados por vírgulas.\n",
        "\n",
        "```\n",
        "dicionário = {chave: valor}\n",
        "```\n",
        "\n",
        "A **chave** é um elemento único que identifica um valor no dicionário, enquanto o **valor** é o item que é armazenado para a chave. As chaves e os valores podem ser de **qualquer tipo de dado**.\n",
        "\n",
        "Os dicionários são úteis para armazenar e acessar dados de maneira organizada e rápida. Eles são um tipo de conjunto de elementos em Python, pois armazenam uma coleção de itens."
      ],
      "metadata": {
        "id": "PJ-cCKPjeWxL"
      }
    },
    {
      "cell_type": "code",
      "source": [
        "dicionario = {'chave_1': 1,\n",
        "              'chave_2': 2}\n",
        "dicionario"
      ],
      "metadata": {
        "id": "fO6BSSP02lPY",
        "colab": {
          "base_uri": "https://localhost:8080/"
        },
        "outputId": "f7663b6c-943d-4248-9538-48639d4c850c"
      },
      "execution_count": 29,
      "outputs": [
        {
          "output_type": "execute_result",
          "data": {
            "text/plain": [
              "{'chave_1': 1, 'chave_2': 2}"
            ]
          },
          "metadata": {},
          "execution_count": 29
        }
      ]
    },
    {
      "cell_type": "markdown",
      "source": [
        "---\n",
        "**Situação:**\n",
        "\n",
        "Vamos criar um conjunto de dados com informações de matricula de um estudante. Os dados são os seguintes:\n",
        "\n",
        "- matricula: 2000168933\n",
        "- dia de cadastro: 25\n",
        "- mês de cadastro: 10\n",
        "- turma: 2E"
      ],
      "metadata": {
        "id": "_JbQ3KMKfkXU"
      }
    },
    {
      "cell_type": "code",
      "source": [
        "cadastro = {'matricula': 2000168933,\n",
        "            'dia_cadastro': 25,\n",
        "            'mes_cadastro': 10,\n",
        "            'turma': '2E'}\n",
        "cadastro"
      ],
      "metadata": {
        "id": "Q1SKuEXQ2jkL",
        "colab": {
          "base_uri": "https://localhost:8080/"
        },
        "outputId": "34c6e127-b826-4761-c288-f818200ecb49"
      },
      "execution_count": 32,
      "outputs": [
        {
          "output_type": "execute_result",
          "data": {
            "text/plain": [
              "{'matricula': 2000168933,\n",
              " 'dia de cadastro': 25,\n",
              " 'mês de cadastro': 10,\n",
              " 'turma': '2E'}"
            ]
          },
          "metadata": {},
          "execution_count": 32
        }
      ]
    },
    {
      "cell_type": "code",
      "source": [
        "cadastro['matricula']"
      ],
      "metadata": {
        "id": "H7oT2M_a2jY5",
        "colab": {
          "base_uri": "https://localhost:8080/"
        },
        "outputId": "5c66f248-0311-488d-f37a-8031e570079a"
      },
      "execution_count": 33,
      "outputs": [
        {
          "output_type": "execute_result",
          "data": {
            "text/plain": [
              "2000168933"
            ]
          },
          "metadata": {},
          "execution_count": 33
        }
      ]
    },
    {
      "cell_type": "code",
      "source": [
        "cadastro['turma']"
      ],
      "metadata": {
        "id": "Mv8we96a2jPR",
        "colab": {
          "base_uri": "https://localhost:8080/",
          "height": 36
        },
        "outputId": "d5f0fff9-65c1-48ea-fa53-832609494213"
      },
      "execution_count": 34,
      "outputs": [
        {
          "output_type": "execute_result",
          "data": {
            "text/plain": [
              "'2E'"
            ],
            "application/vnd.google.colaboratory.intrinsic+json": {
              "type": "string"
            }
          },
          "metadata": {},
          "execution_count": 34
        }
      ]
    },
    {
      "cell_type": "markdown",
      "source": [
        "É possível substituir os valores dentro de uma chave. Por exemplo, recebemos a informação que a turma do estudante que cadastramos foi trocada para `'2G'` e agora precisamos trocar o valor da chave `'turma'`."
      ],
      "metadata": {
        "id": "8ex5pt2ykDd2"
      }
    },
    {
      "cell_type": "code",
      "source": [
        "cadastro['turma'] = '2G'\n",
        "cadastro"
      ],
      "metadata": {
        "id": "WqZPkVop2hq-",
        "colab": {
          "base_uri": "https://localhost:8080/"
        },
        "outputId": "1bf638b2-1984-4eae-970d-63c081f1ec03"
      },
      "execution_count": 36,
      "outputs": [
        {
          "output_type": "execute_result",
          "data": {
            "text/plain": [
              "{'matricula': 2000168933,\n",
              " 'dia de cadastro': 25,\n",
              " 'mês de cadastro': 10,\n",
              " 'turma': '2G'}"
            ]
          },
          "metadata": {},
          "execution_count": 36
        }
      ]
    },
    {
      "cell_type": "markdown",
      "source": [
        "Podemos também adicionar outros dados ao dicionário. Vamos adicionar a informação de modalidade de ensino, nosso estudante atuará inicialmente em modalidade EAD.\n",
        "\n",
        "Então iremos definir uma chave chamada `'modalidade'` e o valor `'EAD'`."
      ],
      "metadata": {
        "id": "wB0qRb56mQvv"
      }
    },
    {
      "cell_type": "code",
      "source": [
        "cadastro['modalidade'] = 'EAD'\n",
        "cadastro"
      ],
      "metadata": {
        "id": "YDbsuNbw2gb2",
        "colab": {
          "base_uri": "https://localhost:8080/"
        },
        "outputId": "448a24e5-2cfd-4252-8e5b-1eec8ee548b5"
      },
      "execution_count": 40,
      "outputs": [
        {
          "output_type": "execute_result",
          "data": {
            "text/plain": [
              "{'matricula': 2000168933,\n",
              " 'dia de cadastro': 25,\n",
              " 'mês de cadastro': 10,\n",
              " 'turma': '2G',\n",
              " 'modalidade': 'EAD'}"
            ]
          },
          "metadata": {},
          "execution_count": 40
        }
      ]
    },
    {
      "cell_type": "markdown",
      "source": [
        "## Aprofundando em dicionários"
      ],
      "metadata": {
        "id": "LJ3o_inroxg_"
      }
    },
    {
      "cell_type": "markdown",
      "source": [
        "#### [`pop()`](https://python-reference.readthedocs.io/en/latest/docs/dict/pop.html)\n",
        "Remove um item de um dicionário e o retorna."
      ],
      "metadata": {
        "id": "2N3GLlkSpBiu"
      }
    },
    {
      "cell_type": "code",
      "source": [
        "cadastro.pop('turma')"
      ],
      "metadata": {
        "id": "NJKPaN0N2d2G",
        "colab": {
          "base_uri": "https://localhost:8080/",
          "height": 36
        },
        "outputId": "a092a257-33c3-4f7e-fec2-1c85dee6ec70"
      },
      "execution_count": 42,
      "outputs": [
        {
          "output_type": "execute_result",
          "data": {
            "text/plain": [
              "'2G'"
            ],
            "application/vnd.google.colaboratory.intrinsic+json": {
              "type": "string"
            }
          },
          "metadata": {},
          "execution_count": 42
        }
      ]
    },
    {
      "cell_type": "code",
      "source": [
        "cadastro"
      ],
      "metadata": {
        "id": "7XZ7Rl4R2cSF",
        "colab": {
          "base_uri": "https://localhost:8080/"
        },
        "outputId": "9964f1bc-720f-4601-95dc-71442792d43a"
      },
      "execution_count": 43,
      "outputs": [
        {
          "output_type": "execute_result",
          "data": {
            "text/plain": [
              "{'matricula': 2000168933,\n",
              " 'dia de cadastro': 25,\n",
              " 'mês de cadastro': 10,\n",
              " 'modalidade': 'EAD'}"
            ]
          },
          "metadata": {},
          "execution_count": 43
        }
      ]
    },
    {
      "cell_type": "markdown",
      "source": [
        "#### [`items()`](https://python-reference.readthedocs.io/en/latest/docs/dict/items.html)\n",
        "Retorna uma lista de pares chave-valor do dicionário."
      ],
      "metadata": {
        "id": "sYZGvJJYrW_y"
      }
    },
    {
      "cell_type": "code",
      "source": [
        "cadastro.items()"
      ],
      "metadata": {
        "id": "rWJG9aZ72a0D",
        "colab": {
          "base_uri": "https://localhost:8080/"
        },
        "outputId": "571aa1a5-fa25-460c-a3ff-747f1457bb6c"
      },
      "execution_count": 44,
      "outputs": [
        {
          "output_type": "execute_result",
          "data": {
            "text/plain": [
              "dict_items([('matricula', 2000168933), ('dia de cadastro', 25), ('mês de cadastro', 10), ('modalidade', 'EAD')])"
            ]
          },
          "metadata": {},
          "execution_count": 44
        }
      ]
    },
    {
      "cell_type": "markdown",
      "source": [
        "#### [`keys()`](https://python-reference.readthedocs.io/en/latest/docs/dict/keys.html)\n",
        "Retorna uma lista das chaves do dicionário."
      ],
      "metadata": {
        "id": "Lb0utNFGrZBY"
      }
    },
    {
      "cell_type": "code",
      "source": [
        "cadastro.keys()"
      ],
      "metadata": {
        "id": "H1WmQRaR2Z-l",
        "colab": {
          "base_uri": "https://localhost:8080/"
        },
        "outputId": "10b30039-9c7a-4cc0-bfc2-daa1fcb32c8a"
      },
      "execution_count": 45,
      "outputs": [
        {
          "output_type": "execute_result",
          "data": {
            "text/plain": [
              "dict_keys(['matricula', 'dia de cadastro', 'mês de cadastro', 'modalidade'])"
            ]
          },
          "metadata": {},
          "execution_count": 45
        }
      ]
    },
    {
      "cell_type": "markdown",
      "source": [
        "#### [`values()`](https://python-reference.readthedocs.io/en/latest/docs/dict/values.html)\n",
        "Retorna uma lista dos valores do dicionário."
      ],
      "metadata": {
        "id": "qKyu3bf9rbtX"
      }
    },
    {
      "cell_type": "code",
      "source": [
        "cadastro.values()"
      ],
      "metadata": {
        "id": "E5pgDcfQ2ZHH",
        "colab": {
          "base_uri": "https://localhost:8080/"
        },
        "outputId": "74ecd247-cdaa-499b-824c-65e9c1f775b3"
      },
      "execution_count": 46,
      "outputs": [
        {
          "output_type": "execute_result",
          "data": {
            "text/plain": [
              "dict_values([2000168933, 25, 10, 'EAD'])"
            ]
          },
          "metadata": {},
          "execution_count": 46
        }
      ]
    },
    {
      "cell_type": "markdown",
      "source": [
        "### Leitura de valores com `for`"
      ],
      "metadata": {
        "id": "e3XVjR8Frp75"
      }
    },
    {
      "cell_type": "code",
      "source": [
        "for chaves in cadastro.keys():\n",
        "  print(cadastro[chaves])"
      ],
      "metadata": {
        "id": "iwIY3hwV2XL5",
        "colab": {
          "base_uri": "https://localhost:8080/"
        },
        "outputId": "06661937-922e-490b-aadd-ffa60817cc5a"
      },
      "execution_count": 48,
      "outputs": [
        {
          "output_type": "stream",
          "name": "stdout",
          "text": [
            "2000168933\n",
            "25\n",
            "10\n",
            "EAD\n"
          ]
        }
      ]
    },
    {
      "cell_type": "code",
      "source": [
        "for valores in cadastro.values():\n",
        "  print(valores)"
      ],
      "metadata": {
        "id": "KlEbYjKN2XCy",
        "colab": {
          "base_uri": "https://localhost:8080/"
        },
        "outputId": "de972a1a-322d-4ec3-96ed-e5c6407f20ea"
      },
      "execution_count": 50,
      "outputs": [
        {
          "output_type": "stream",
          "name": "stdout",
          "text": [
            "2000168933\n",
            "25\n",
            "10\n",
            "EAD\n"
          ]
        }
      ]
    }
  ]
}